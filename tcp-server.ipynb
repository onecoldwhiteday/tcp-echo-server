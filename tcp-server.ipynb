{
 "cells": [
  {
   "cell_type": "code",
   "execution_count": 1,
   "metadata": {},
   "outputs": [],
   "source": [
    "import socket\n",
    "import sys"
   ]
  },
  {
   "cell_type": "code",
   "execution_count": 2,
   "metadata": {},
   "outputs": [],
   "source": [
    "sock = socket.socket(socket.AF_INET, socket.SOCK_STREAM)"
   ]
  },
  {
   "cell_type": "code",
   "execution_count": 3,
   "metadata": {},
   "outputs": [
    {
     "name": "stdout",
     "output_type": "stream",
     "text": [
      "socket start on localhost port 8098\n"
     ]
    }
   ],
   "source": [
    "server_address = ('localhost', 8098)\n",
    "print('socket start on %s port %s' % server_address)\n",
    "sock.bind(server_address)\n",
    "sock.listen(1)"
   ]
  },
  {
   "cell_type": "code",
   "execution_count": null,
   "metadata": {},
   "outputs": [
    {
     "name": "stdout",
     "output_type": "stream",
     "text": [
      "waiting for a connection\n",
      "connection from ('127.0.0.1', 56966)\n",
      "received \"b'Kannichiva TCP-s'\"\n",
      "sending data back to client\n",
      "received \"b'erver-san!'\"\n",
      "sending data back to client\n",
      "received \"b''\"\n",
      "no more data from ('127.0.0.1', 56966)\n",
      "waiting for a connection\n",
      "connection from ('127.0.0.1', 57032)\n",
      "received \"b'Kannichiva TCP-s'\"\n",
      "sending data back to client\n",
      "received \"b'erver-san!'\"\n",
      "sending data back to client\n",
      "received \"b''\"\n",
      "no more data from ('127.0.0.1', 57032)\n",
      "waiting for a connection\n"
     ]
    }
   ],
   "source": [
    "while True:\n",
    "    print('waiting for a connection')\n",
    "    connection, client_address = sock.accept()\n",
    "    try:\n",
    "        print('connection from', client_address)\n",
    "        while True:\n",
    "            data = connection.recv(16)\n",
    "            print('received \"%s\"' % data)\n",
    "            if data: \n",
    "                print ('sending data back to client')\n",
    "                connection.sendall(data)\n",
    "            else:\n",
    "                print('no more data from', client_address)\n",
    "                break\n",
    "    finally:\n",
    "        connection.close()\n",
    "                "
   ]
  }
 ],
 "metadata": {
  "kernelspec": {
   "display_name": "Python 3",
   "language": "python",
   "name": "python3"
  },
  "language_info": {
   "codemirror_mode": {
    "name": "ipython",
    "version": 3
   },
   "file_extension": ".py",
   "mimetype": "text/x-python",
   "name": "python",
   "nbconvert_exporter": "python",
   "pygments_lexer": "ipython3",
   "version": "3.8.5"
  }
 },
 "nbformat": 4,
 "nbformat_minor": 4
}
