{
 "cells": [
  {
   "cell_type": "code",
   "execution_count": 1,
   "metadata": {},
   "outputs": [],
   "source": [
    "import socket\n",
    "import sys"
   ]
  },
  {
   "cell_type": "code",
   "execution_count": 2,
   "metadata": {},
   "outputs": [
    {
     "name": "stdout",
     "output_type": "stream",
     "text": [
      "connecting to localhost port 8098\n"
     ]
    }
   ],
   "source": [
    "sock = socket.socket(socket.AF_INET, socket.SOCK_STREAM)\n",
    "server_address = ('localhost', 8098)\n",
    "print('connecting to %s port %s' % server_address)\n",
    "sock.connect(server_address)"
   ]
  },
  {
   "cell_type": "code",
   "execution_count": 3,
   "metadata": {},
   "outputs": [
    {
     "name": "stdout",
     "output_type": "stream",
     "text": [
      "sending b'Kannichiva TCP-server-san!'\n",
      "received \"b'Kannichiva TCP-s'\"\n",
      "received \"b'erver-san!'\"\n",
      "closing socket\n"
     ]
    }
   ],
   "source": [
    "try: \n",
    "    message = 'Kannichiva TCP-server-san!'.encode()\n",
    "    print('sending %s' % message)\n",
    "    sock.sendall(message)\n",
    "\n",
    "    amount_received = 0\n",
    "    amount_expected = len(message)\n",
    "\n",
    "    while amount_received < amount_expected:\n",
    "        data = sock.recv(16)\n",
    "        amount_received += len(data)\n",
    "        print('received \"%s\"' % data)\n",
    "finally:\n",
    "    print('closing socket')\n",
    "    sock.close()\n"
   ]
  }
 ],
 "metadata": {
  "kernelspec": {
   "display_name": "Python 3",
   "language": "python",
   "name": "python3"
  },
  "language_info": {
   "codemirror_mode": {
    "name": "ipython",
    "version": 3
   },
   "file_extension": ".py",
   "mimetype": "text/x-python",
   "name": "python",
   "nbconvert_exporter": "python",
   "pygments_lexer": "ipython3",
   "version": "3.8.5"
  }
 },
 "nbformat": 4,
 "nbformat_minor": 4
}
